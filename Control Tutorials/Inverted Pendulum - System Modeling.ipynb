{
 "cells": [
  {
   "cell_type": "code",
   "execution_count": 99,
   "metadata": {},
   "outputs": [],
   "source": [
    "import matplotlib.pyplot as plt\n",
    "import numpy as np\n",
    "from scipy import signal\n",
    "from scipy.integrate import odeint\n",
    "%matplotlib inline \n",
    "#Plot shows up inside browser format"
   ]
  },
  {
   "cell_type": "markdown",
   "metadata": {},
   "source": [
    "# Inverted Pendulum - System Modeling\n",
    "---\n",
    "<img src=\"images/img2.jpg\">\n",
    "   \n",
    "## Problem Set-Up & Design Requirements\n",
    "***\n",
    "   The system in this example consists of an inverted pendulum mounted to a motorized cart. The inverted pendulum system is an example commonly found in control system textbooks and research literature. Its popularity derives in part from the fact that it is unstable without control, that is, the pendulum will simply fall over if the cart isn't moved to balance it. Additionally, the dynamics of the system are nonlinear. The objective of the control system is to balance the inverted pendulum by applying a force to the cart that the pendulum is attached to. A real-world example that relates directly to this inverted pendulum system is the altitude control of a booster rocket at takeoff.\n",
    "   In this case, we'll consider a two dimensional problem where the pendulum is constrained to move in the vertical plane shown in the figure below. For this system, the control input is the force **F** that moves the cart horizontally and the outputs are the angular position of the pendulum $\\theta$ and the horizontal position of the cart ***x***.\n",
    "   \n",
    "### For this model, we'll assume the following quantities:"
   ]
  },
  {
   "cell_type": "code",
   "execution_count": 170,
   "metadata": {},
   "outputs": [],
   "source": [
    "M=.5 #Mass of the cart (kg)\n",
    "m=.2 #Mass of pendulum (kg)\n",
    "b=.1 #Coefficient of friction for cart (N/m/sec)\n",
    "l=.3 #Length to pendulum center of mass (m)\n",
    "I=.006 #Mass moment of intertia of pendulum (kgm^2)\n",
    "g=9.81 #Acceleration of Gravity (m/s/s)"
   ]
  },
  {
   "cell_type": "markdown",
   "metadata": {},
   "source": [
    "   For the PID (Proportional Intergration Derivative Controller), root locus, and frequency response sections of this problem, we will be interested only in the control of the pendulum's position. This is because the techniques in these sections are best-suited for single-input, single-output (SISO) systems. Therefore, none of the design criteria deal with the cart's position. We will, however, investigate the controller's effect on the cart's position after the controller has been designed. For these sections, we will design a controller to restore the pendulum to a vertically upward position after it has experienced an impulsive \"bump\" to the cart. Specifically, the design criteria are that the pendulum return to its upright position within 5 seconds and that the pendulum never more than 0.05 radians awary from vertical after  being disturbed by an impulse of magnitude 1 Nsec. The pendulum will initially begin in the vertically upward equilibrium, $\\theta = \\pi$.\n",
    "\n",
    "   In summary, the design requirements of the system are:\n",
    "  - Settling time for $\\theta$ of less than 5 seconds.\n",
    "  - Pendulum angle $\\theta$ never more than 0.05 radians from the vertical\n",
    "  \n",
    "Employing state-space design techniques, we are more readily able to address a multi-output system. In our case, the inverted pendulum system is single-input, multi-output (SIMO). Therefore, for the state-space section of the Inverted Pendulum example, we will attempt to control both the pendulum's angle and the cart's positoin. To make  the design more challenging in this section, we will command a 0.2-meter step in the cart's desired position. Under these conditions, it is desired that the cart achieve its commanded position within 5 seconds and have a rise time under 0.5 seconds. It is also desired that the pendulum settle to its vertical position in under 5 seconds, and further, that the pendulum angle not travel more than 20 degrees (0.35 radians) away from the vertically upward position.\n",
    "\n",
    "   In summary, the design requirements for the inverted pendulum state-space example are:\n",
    "  - Settling time for **x** and $\\theta$ of less than 5 seconds.\n",
    "  - Rise time form **x** of less than 0.5 seconds\n",
    "  - Pendulum angle $\\theta$ never more than 20 degrees (0.35 radians) from the vertical\n",
    "  - Steady-state error of less the 2% for **x** and $\\theta$\n",
    "\n",
    "## Force Analysis & System Equations\n",
    "\n",
    "Below are the FBDs of the two elements of the inverted pendulum system:\n",
    "<img src=\"images/img3.jpg\">\n",
    "Summing the forces in the FBD in the x-direction (horizontal), you obtian the following equation:\n",
    "\n",
    "\\begin{align}\n",
    "M\\ddot{x}+b\\dot{x}+N=F\n",
    "\\end{align}\n",
    "\n",
    "Note that you can also sum the force in the y-direction (vertically), but no useful information would be gained.\n",
    "\n",
    "Summing the forces in the FBD of the pendulum in the horizontal x-direction, you get the following expression for the reaction force **N**.\n",
    "\n",
    "\\begin{align}\n",
    "N=m\\ddot{x}+ml\\ddot{\\theta}cos(\\theta)-ml\\dot{\\theta}^2sin(\\theta)\n",
    "\\end{align}\n",
    "\n",
    "If you substitute this equation into the first equation, you get one of the two governing equations for this system:\n",
    "\n",
    "\\begin{align}\n",
    "(M+m)\\ddot{x}+b\\dot{x}+ml\\ddot{\\theta}cos(\\theta)-ml\\dot{\\theta}^2sin(\\theta)=F\n",
    "\\end{align}\n",
    "\n",
    "To get the second equation of motion for this system, sum the forces perpendicular to the pendulum. Solving the system along this axis greatly simplifies the mathematics. You should get the following equation:\n",
    "\n",
    "\\begin{align}\n",
    "Psin(\\theta)+Ncos(\\theta)-mgsin(\\theta)=ml\\ddot{\\theta}+m\\ddot{x}cos(\\theta)\n",
    "\\end{align}\n",
    "\n",
    "To get ride of the **P** and **N** terms in the equation above, sum the moments about the centroid of the pendulum to get the following equation.\n",
    "\n",
    "\\begin{align}\n",
    "-Plsin(\\theta)-Nlcos(\\theta)=I\\ddot{\\theta}\n",
    "\\end{align}\n",
    "\n",
    "Combining these last two expressions, you get the second governing expression:\n",
    "\n",
    "\\begin{align}\n",
    "(I+ml^2)\\ddot{\\theta}+mglsin(\\theta)=-ml\\ddot{\\theta}cos(\\theta)\n",
    "\\end{align}\n",
    "\n",
    "Since the analysis and control design techniques we will be employing in this example apply only to linear systems, this set of equations needs to be linearized. Sepcifically, we will linearize the equations about the vertically upward equillibrium positions, $\\theta=\\pi$, and we will assume that the system stays within a small neighborhood of this equillbrium. This assumption should be reasonably valid since under control we desire that the pendulum not deviate more than 20 degrees from the vertically upward position. Let $\\phi$ represent the deviation of the pendulum's position from equilibrium, that is, $\\theta=\\pi+\\phi$. Again presuming a small deviation ($\\phi$) from equilibrium, we can use the following small angle approximations of the nonlinear functions in our system equations:\n",
    "\n",
    "\\begin{align}\n",
    "cos(\\theta)=cos(\\pi + \\phi) \\approx -1\n",
    "\\newline\n",
    "sin(\\theta)=sin(\\pi + \\phi) \\approx -\\phi\n",
    "\\newline\n",
    "\\dot{\\theta}^2=\\dot{\\phi}^2 \\approx 0\n",
    " \\end{align}\n",
    " \n",
    " ### 1. Transfer Function\n",
    " \n",
    " To obtain the transfer functions of the linearized system equations, we must first take the Laplace transform of the system equations assuming zero initial conditions. The resulting Laplace transforms are shown below:\n",
    "\n",
    "\\begin{align}\n",
    "(I+ml^2)\\Phi(s)s^2-mgl\\Phi(s)=mlX(s)s^2\n",
    "\\newline\n",
    "(M+m)X(s)s^2+bX(s)s-ml\\Phi(s)s^2=U(s)\n",
    "\\end{align}\n",
    "\n",
    "Recall that a transfer function represents the releationship between a single inputs and a single output at a time. To find our first transfer function for the output $\\Phi(s)$ and an input of **U(s)** we need to eliminate **X(s)** from the above equations. Solve the first equation for **X(s)**.\n",
    "\n",
    "\\begin{align}\n",
    "X(s)=[\\frac{I+ml^2}{ml}-\\frac{g}{s^2}]\\Phi(s)\n",
    "\\end{align}\n",
    "\n",
    "Then substitute the above into the second equation.\n",
    "\n",
    "\\begin{align}\n",
    "(M+m)[\\frac{I+ml^2}{ml}-\\frac{g}{s^2}]\\Phi(s)s^2+b[\\frac{I+ml^2}{ml}-\\frac{g}{s^2}]\\Phi(s)s-ml\\Phi(s)s^2=U(s)\n",
    "\\end{align}\n",
    "\n",
    "Rearranging, the transfer function is then the following:\n",
    "\n",
    "\\begin{align}\n",
    "\\frac{\\Phi(s)}{U(s)}=\\frac{\\frac{ml}{q}s^2}{s^4+\\frac{b(I+ml^2)}{q}s^3-\\frac{(M+m)mgl}{q}s^2-\\frac{bmgl}{q}s}\n",
    "\\end{align}\n",
    "\n",
    "where,\n",
    "\n",
    "\\begin{align}\n",
    "q=[(M+m)(I+ml^2)-(ml)^2]\n",
    "\\end{align}\n",
    "\n",
    "From the transfer function above it can be seen that there is both a pole and a zero at the origin. These can be canceled and the transfer function becomes the following:\n",
    "\n",
    "\\begin{align}\n",
    "P_{pend}(s)=\\frac{\\Phi(s)}{U(s)}=\\frac{\\frac{ml}{q}s}{s^3+\\frac{b(I+ml^2)}{q}s^2-\\frac{(M+m)mgl}{q}s-\\frac{bmgl}{q}} && [\\frac{rad}{N}]\n",
    "\\end{align}\n",
    "\n",
    "### 2. State-Space\n",
    "\n",
    "The linearized equations of motion from above can also be represented in state-space form if they are arranged into a series of first order differential equations. Since the equations are linear, they can then be put into the standard matrix form shown below.\n",
    "\\begin{align}\n",
    "\\begin{bmatrix}\n",
    "\\dot{x} \\\\\n",
    "\\ddot{x} \\\\\n",
    "\\dot{\\phi} \\\\\n",
    "\\ddot{\\phi}\n",
    "\\end{bmatrix}\n",
    "=\n",
    "\\begin{bmatrix}\n",
    "0 && 1 && 0 && 0 \\\\\n",
    "0 && \\frac{-(I+ml^2)b}{I(M+m)+Mml^2} && \\frac{m^2gl^2}{I(M+m)+Mml^2} && 0 \\\\\n",
    "0 && 0 && 0 && 1 \\\\\n",
    "0 && \\frac{-mlb}{I(M+m)+Mml^2} && \\frac{mgl(M+m)}{I(M+m)+Mml^2} && 0\n",
    "\\end{bmatrix}\n",
    "\\begin{bmatrix}\n",
    "x \\\\\n",
    "\\dot{x} \\\\\n",
    "\\phi \\\\\n",
    "\\dot{\\phi} \n",
    "\\end{bmatrix}\n",
    "+\n",
    "\\begin{bmatrix}\n",
    "0 \\\\\n",
    "\\frac{I+ml^2}{I(M+m)+Mml^2} \\\\\n",
    "0 \\\\\n",
    "\\frac{ml}{I(M+m)+Mml^2}\n",
    "\\end{bmatrix}\n",
    "u\n",
    "\\newline\n",
    "\\end{align}\n",
    "\\begin{align}\n",
    "\\newline\n",
    "y =\n",
    "\\begin{bmatrix}\n",
    "1 && 0 && 0 && 0  \\\\\n",
    "0 && 0 && 1 && 0\n",
    "\\end{bmatrix}\n",
    "\\begin{bmatrix}\n",
    "x \\\\\n",
    "\\dot{x} \\\\\n",
    "\\phi \\\\\n",
    "\\dot{\\phi} \n",
    "\\end{bmatrix}\n",
    "+\n",
    "\\begin{bmatrix}\n",
    "0 \\\\ \n",
    "0\n",
    "\\end{bmatrix}\n",
    "u\n",
    "\\end{align}\n",
    "\n",
    "\n",
    "The **C** matrix has 2 rows because both the cart's position and the pendulum's position are part of the output. Specifically, the cart's position is the first element of the output **y** and the pendulum's deviations from its equilibrium position is the second element of **y**."
   ]
  },
  {
   "cell_type": "markdown",
   "metadata": {},
   "source": [
    "### Modeling\n",
    "---\n",
    "**State-Space Representation:**"
   ]
  },
  {
   "cell_type": "code",
   "execution_count": 169,
   "metadata": {},
   "outputs": [
    {
     "name": "stdout",
     "output_type": "stream",
     "text": [
      "The system is an unstable system.\n"
     ]
    },
    {
     "data": {
      "image/png": "[encoded data removed]",
      "text/plain": [
       "<Figure size 720x720 with 1 Axes>"
      ]
     },
     "metadata": {},
     "output_type": "display_data"
    },
    {
     "data": {
      "image/png": "[encoded data removed]",
      "text/plain": [
       "<Figure size 720x720 with 1 Axes>"
      ]
     },
     "metadata": {},
     "output_type": "display_data"
    }
   ],
   "source": [
    "#Standard State-Space Form: [x'=Ax+bu ; y=cx+du]\n",
    "A=[[0,1,0,0],[0,-(I+m*l**2)*b/(I*(M+m)+M*m*l**2),(m**2*g*l**2)/(I*(M+m)+M*m*l**2),0],[0,0,0,1],[0,-(m*l*b)/(I*(M+m)+M*m*l**2),(m*g*l*(M+m))/(I*(M+m)+M*m*l**2),0]] #4x4\n",
    "B=[[0],[(I+m*l**2)/(I*(M+m)+M*m*l**2)],[0],[(m*l)/(I*(M+m)+M*m*l**2)]] #4x1\n",
    "C=[[1,0,0,0],[0,0,1,0]] #2x4\n",
    "D=[[0],[0]]\n",
    "\n",
    "\n",
    "#State-Space System Equations\n",
    "system=signal.StateSpace(A,B,C,D)\n",
    "\n",
    "#Step Response of System \n",
    "tstep,ystep=signal.step(system)\n",
    "\n",
    "#Lsim = Linear Simulation\n",
    "t=np.linspace(0,4,101)\n",
    "u=np.zeros(len(t))\n",
    "u[10:50]=1\n",
    "u[50:]=2\n",
    "t1,y1,x1=signal.lsim(system,u,t)\n",
    "\n",
    "#Plot\n",
    "#Linear Simulation\n",
    "plt.figure(figsize=(10,10))\n",
    "plt.title('Linear Simulation')\n",
    "plt.xlabel('Time (s)')\n",
    "plt.ylabel('U')\n",
    "plt.plot(t,u,c='green',label='Linear Simulation')\n",
    "\n",
    "#Step Response\n",
    "plt.figure(figsize=(10,10))\n",
    "plt.plot(tstep,ystep,c='red',label='Step Response')\n",
    "plt.title('Step Response')\n",
    "plt.xlabel('Time (s)')\n",
    "plt.ylabel('Output')\n",
    "\n",
    "#Determining Stability of the system: if the real part eigen values of A are all negative the system is stable.\n",
    "eigVals=np.linalg.eig(A)[0]\n",
    "j=0\n",
    "i=0\n",
    "while j<1:\n",
    "    if eigVals[i]>0:\n",
    "        print('The system is an unstable system.')\n",
    "        j=j+1\n",
    "    elif i==len(eigVals)-1:\n",
    "        print('The system is a stable system.')\n",
    "        j=j+1\n",
    "    else:\n",
    "        i=i+1"
   ]
  },
  {
   "cell_type": "markdown",
   "metadata": {},
   "source": [
    "It is clear from the results of the eigen values of Matrix A and the open-loop impulse response of the system that the system is unstable in open loop.\n",
    "\n",
    "Some sort of control will need to be designed to improve the response of the system. "
   ]
  },
  {
   "cell_type": "markdown",
   "metadata": {},
   "source": [
    "### 1. Transfer Function\n",
    "We can represent the transfer functions derived above for the inverted pendulum system employing the following comands. Recall that the two transfer functions are only valid for small values of the angle $\\phi$, which is the angular displacement of the pendulum from the vertically upward polstion. Also, the absolute pendulum angle $\\theta$ is equal to $\\pi + \\phi$."
   ]
  },
  {
   "cell_type": "code",
   "execution_count": 171,
   "metadata": {},
   "outputs": [],
   "source": [
    "#Continuous-time transfer function representation\n",
    "\n",
    "\n",
    "#Open Loop Transfer Functions of Model\n",
    "#rad/N\n",
    "def pCart(s):\n",
    "    return (((I+m*l**2)/q)*s**2 - (m*g*l/q))/(s**4 + (b*(I + m*l**2))*s**3/q - ((M + m)*m*g*l)*s**2/q - b*m*g*l*s/q)\n",
    "#m/N\n",
    "def pPend(s):\n",
    "    return (m*l*s/q)/(s**3 + (b*(I + m*l**2))*s**2/q - ((M + m)*m*g*l)*s/q - b*m*g*l/q)\n",
    "\n",
    "#where:\n",
    "q=(M+m)*(I+m*l**2)-(m*l)**2"
   ]
  },
  {
   "cell_type": "markdown",
   "metadata": {},
   "source": [
    "  Considering the response of the pendulum to a 1-Nsec impulse applied to the cart, the design requirements for the pendulum are (Control Law for Pendulum):\n",
    "   - Settling time for $\\theta$ of less than 5 seconds\n",
    "   - Pendulum angle $\\theta$ never morre than 0.05 radians from the vertical\n",
    "  \n",
    "\n",
    "Additionally, the requirements for the response of the system to a 0.2-meter step command in cart position are (Control Law for Cart):\n",
    "- Settling time for x and $\\theta$ of less than 5 seconds\n",
    "- Rise time for x of less than 0.5 seconds\n",
    "- Pendulum angle $\\phi$ never more than 20 degrees (0.35 radians) from the vertical"
   ]
  },
  {
   "cell_type": "markdown",
   "metadata": {},
   "source": [
    "## PID Controller Design\n"
   ]
  },
  {
   "cell_type": "code",
   "execution_count": null,
   "metadata": {},
   "outputs": [],
   "source": [
    "# TO DO WILL BE DONE SOON HOSS ~"
   ]
  }
 ],
 "metadata": {
  "kernelspec": {
   "display_name": "Python 3",
   "language": "python",
   "name": "python3"
  },
  "language_info": {
   "codemirror_mode": {
    "name": "ipython",
    "version": 3
   },
   "file_extension": ".py",
   "mimetype": "text/x-python",
   "name": "python",
   "nbconvert_exporter": "python",
   "pygments_lexer": "ipython3",
   "version": "3.6.1"
  }
 },
 "nbformat": 4,
 "nbformat_minor": 2
}

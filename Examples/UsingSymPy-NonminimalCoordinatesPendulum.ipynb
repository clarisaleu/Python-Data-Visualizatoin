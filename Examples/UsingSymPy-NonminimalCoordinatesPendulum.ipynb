{
 "cells": [
  {
   "cell_type": "code",
   "execution_count": 4,
   "metadata": {},
   "outputs": [],
   "source": [
    "from sympy.physics.mechanics import *\n",
    "from sympy import symbols, atan,Matrix,solve"
   ]
  },
  {
   "cell_type": "code",
   "execution_count": 16,
   "metadata": {},
   "outputs": [],
   "source": [
    "#Create a world reference frame with a standard basis of three unit vectors in the x y z directions\n",
    "N=ReferenceFrame('N')\n",
    "pN=Point('N*') #Origin at N*\n",
    "pN.set_vel(N,0) #Velocity at origin set to zero\n",
    "\n",
    "#Create generalized coordinates/speeds needed to represent the system.\n",
    "q1,q2=dynamicsymbols('q1,q2')\n",
    "#Derivative of q1 and q2 wrt t\n",
    "q1d,q2d=dynamicsymbols('q1,q2',level=1)\n",
    "u1,u2=dynamicsymbols('u1 u2')\n",
    "#Derivative of u1 and u2 wrt t\n",
    "u1d,u2d=dynamicsymbols('u1,u2',level=1)\n",
    "L,m,g,t=symbols('L,m,g,t')\n",
    "\n",
    "\n",
    "#Orientating a second coordinate frame such that A's x-axis is along the pendulum\n",
    "theta1=atan(q2/q1)\n",
    "A=N.orientnew('A','axis',[theta1,N.z])\n",
    "\n",
    "#Create a Particle object to represent the mass of the pendulum\n",
    "P=pN.locatenew('P1',q1*N.x+q2*N.y) #Specify the masses location\n",
    "pP=Particle('pP',P,m) #initialize particle with mass m at point P"
   ]
  },
  {
   "cell_type": "code",
   "execution_count": 14,
   "metadata": {},
   "outputs": [
    {
     "data": {
      "text/plain": [
       "u2(t)"
      ]
     },
     "execution_count": 14,
     "metadata": {},
     "output_type": "execute_result"
    }
   ],
   "source": []
  },
  {
   "cell_type": "code",
   "execution_count": null,
   "metadata": {},
   "outputs": [],
   "source": []
  }
 ],
 "metadata": {
  "kernelspec": {
   "display_name": "Python 3",
   "language": "python",
   "name": "python3"
  },
  "language_info": {
   "codemirror_mode": {
    "name": "ipython",
    "version": 3
   },
   "file_extension": ".py",
   "mimetype": "text/x-python",
   "name": "python",
   "nbconvert_exporter": "python",
   "pygments_lexer": "ipython3",
   "version": "3.6.1"
  }
 },
 "nbformat": 4,
 "nbformat_minor": 2
}

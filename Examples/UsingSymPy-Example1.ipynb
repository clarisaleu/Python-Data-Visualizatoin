{
 "cells": [
  {
   "cell_type": "markdown",
   "metadata": {},
   "source": [
    "# SymPy Tutorials & Examples\n",
    "--- \n",
    "#### Created by: Clarisa Leu-Rodriguez\n",
    "This notebook was made for learning purposes."
   ]
  },
  {
   "cell_type": "code",
   "execution_count": 65,
   "metadata": {},
   "outputs": [],
   "source": [
    "from sympy.physics.mechanics import Particle, Point, inertia, ReferenceFrame,angular_momentum,linear_momentum,inertia_of_point_mass, RigidBody, outer, dynamicsymbols\n",
    "from sympy import Symbol, symbols"
   ]
  },
  {
   "cell_type": "code",
   "execution_count": 38,
   "metadata": {},
   "outputs": [],
   "source": [
    "#Initializing a particle 'pa' as a point mass\n",
    "po=Point('po')\n",
    "m=Symbol('m')\n",
    "pa=Particle('pa',po,m)\n",
    "pa.mass=m\n",
    "pa.point=po"
   ]
  },
  {
   "cell_type": "code",
   "execution_count": 39,
   "metadata": {},
   "outputs": [
    {
     "data": {
      "text/plain": [
       "m*r*v*N.z"
      ]
     },
     "execution_count": 39,
     "metadata": {},
     "output_type": "execute_result"
    }
   ],
   "source": [
    "#Angular momentum of a particle about a point\n",
    "#Given by: H=rxm*v where r=pos vector from O to particle P, m=mass of particle, v=vel of particle i n the inertial frame N\n",
    "m, v, r = dynamicsymbols('m v r')\n",
    "N=ReferenceFrame('N')\n",
    "O=Point('O')\n",
    "A=O.locatenew('A',r*N.x)\n",
    "P=Particle('P', A, m)\n",
    "P.point.set_vel(N, v * N.y)\n",
    "#Returns angular momentum equation\n",
    "P.angular_momentum(O,N)"
   ]
  },
  {
   "cell_type": "code",
   "execution_count": 40,
   "metadata": {},
   "outputs": [
    {
     "data": {
      "text/plain": [
       "m*v**2/2"
      ]
     },
     "execution_count": 40,
     "metadata": {},
     "output_type": "execute_result"
    }
   ],
   "source": [
    "#Kinetic energy of a particle\n",
    "#Given by T=1/2*m*v^2 \n",
    "m, v, r = symbols('m v r')\n",
    "N=ReferenceFrame('N')\n",
    "O=Point('O')\n",
    "P=Particle('P',O,m)\n",
    "P.point.set_vel(N, v * N.y)\n",
    "P.kinetic_energy(N)"
   ]
  },
  {
   "cell_type": "code",
   "execution_count": 41,
   "metadata": {},
   "outputs": [
    {
     "data": {
      "text/plain": [
       "m*v*N.x"
      ]
     },
     "execution_count": 41,
     "metadata": {},
     "output_type": "execute_result"
    }
   ],
   "source": [
    "#linear Momentum of a particle\n",
    "#Given by: L=m*v; v is the velocity of the particle in the inertial frame N\n",
    "m, v = dynamicsymbols('m v')\n",
    "N=ReferenceFrame('N')\n",
    "P=Point('P')\n",
    "A=Particle('A',P,m)\n",
    "P.set_vel(N,v * N.x)\n",
    "A.linear_momentum(N)"
   ]
  },
  {
   "cell_type": "code",
   "execution_count": 42,
   "metadata": {},
   "outputs": [
    {
     "data": {
      "text/plain": [
       "g*h*m"
      ]
     },
     "execution_count": 42,
     "metadata": {},
     "output_type": "execute_result"
    }
   ],
   "source": [
    "#Potential Energy of a Particle\n",
    "m, g, h = symbols('m g h')\n",
    "O=Point('O')\n",
    "P=Particle('P', O, m)\n",
    "P.potential_energy=m * g * h\n",
    "P.potential_energy"
   ]
  },
  {
   "cell_type": "code",
   "execution_count": 45,
   "metadata": {},
   "outputs": [],
   "source": [
    "#Rigid body\n",
    "m=Symbol('m')\n",
    "A=ReferenceFrame('A')\n",
    "P=Point('P')\n",
    "I=outer(A.x,A.x)\n",
    "iner_tuple = (I,P)\n",
    "B=RigidBody('B',P,A,m,iner_tuple)\n",
    "#Or change after\n",
    "m2=Symbol('m2')\n",
    "B.mass=m2"
   ]
  },
  {
   "cell_type": "code",
   "execution_count": 47,
   "metadata": {},
   "outputs": [
    {
     "data": {
      "text/plain": [
       "omega*b.x"
      ]
     },
     "execution_count": 47,
     "metadata": {},
     "output_type": "execute_result"
    }
   ],
   "source": [
    "#Angular Momentum of a rigid body about a point in the given frame\n",
    "#Given by: H=l.w=rxMv where I is the central inertial dyadic of B, w is the \n",
    "#angular velocity of body B in the frame, N, r is the position vector from \n",
    "#point O to the mass center of B, and v is the velocity of the mass center in the frame, N \n",
    "M, v, r, omega = dynamicsymbols('M v r omega')\n",
    "N=ReferenceFrame('N')\n",
    "b=ReferenceFrame('b')\n",
    "b.set_ang_vel(N, omega * b.x)\n",
    "P=Point('P')\n",
    "P.set_vel(N, 1 * N.x)\n",
    "I = outer(b.x,b.x)\n",
    "B=RigidBody('B', P,b,M,(I,P))\n",
    "B.angular_momentum(P,N)"
   ]
  },
  {
   "cell_type": "code",
   "execution_count": 48,
   "metadata": {},
   "outputs": [
    {
     "data": {
      "text/plain": [
       "M*v**2/2 + omega**2/2"
      ]
     },
     "execution_count": 48,
     "metadata": {},
     "output_type": "execute_result"
    }
   ],
   "source": [
    "#Kinetic Energy of a Rigid Body\n",
    "#Given by T=1/2*(I*omega^2+m*v^2) where I and m are the central inertia dyadic \n",
    "#and mass of rigid body B, omega = the body's angular vel and v is the vel of \n",
    "#the body's mass center in the supplied RefFrame\n",
    "M, v, r, omega = symbols('M v r omega')\n",
    "N=ReferenceFrame('N')\n",
    "b=ReferenceFrame('b')\n",
    "b.set_ang_vel(N, omega * b.x)\n",
    "P=Point('P')\n",
    "P.set_vel(N,v * N.x)\n",
    "I=outer(b.x,b.x)\n",
    "B=RigidBody('B',P,b,M,(I,P))\n",
    "B.kinetic_energy(N)"
   ]
  },
  {
   "cell_type": "code",
   "execution_count": 56,
   "metadata": {},
   "outputs": [
    {
     "data": {
      "text/plain": [
       "M*v*N.x"
      ]
     },
     "execution_count": 56,
     "metadata": {},
     "output_type": "execute_result"
    }
   ],
   "source": [
    "#Linear Momentum of a Rigid Body\n",
    "M,v=dynamicsymbols('M v')\n",
    "N=ReferenceFrame('N')\n",
    "P=Point('P')\n",
    "P.set_vel(N,v * N.x)\n",
    "I=outer(N.x,N.x)\n",
    "B=RigidBody('B',P,N,M,(I,P))\n",
    "B.linear_momentum(N)"
   ]
  },
  {
   "cell_type": "code",
   "execution_count": 52,
   "metadata": {},
   "outputs": [
    {
     "data": {
      "text/plain": [
       "M*g*h"
      ]
     },
     "execution_count": 52,
     "metadata": {},
     "output_type": "execute_result"
    }
   ],
   "source": [
    "#Potential Energy of a Rigid Body\n",
    "M,g,h=symbols('M g h')\n",
    "b = ReferenceFrame('b')\n",
    "P=Point('P')\n",
    "I=outer(b.x,b.x)\n",
    "B=RigidBody('B',P,b,M,(I,P))\n",
    "B.potential_energy= M * g * h\n",
    "B.potential_energy"
   ]
  },
  {
   "cell_type": "code",
   "execution_count": 59,
   "metadata": {},
   "outputs": [
    {
     "data": {
      "text/plain": [
       "(N.x|N.x) + 2*(N.y|N.y) + 3*(N.z|N.z)"
      ]
     },
     "execution_count": 59,
     "metadata": {},
     "output_type": "execute_result"
    }
   ],
   "source": [
    "#Creating an inertia Dyadic object\n",
    "N=ReferenceFrame('N')\n",
    "inertia(N,1,2,3)"
   ]
  },
  {
   "cell_type": "code",
   "execution_count": 61,
   "metadata": {},
   "outputs": [
    {
     "data": {
      "text/plain": [
       "m*r**2*(N.y|N.y) + m*r**2*(N.z|N.z)"
      ]
     },
     "execution_count": 61,
     "metadata": {},
     "output_type": "execute_result"
    }
   ],
   "source": [
    "#Inertia dyadic of a point mass relative to point O\n",
    "N=ReferenceFrame('N')\n",
    "r, m = symbols('r,m')\n",
    "px=r * N.x\n",
    "inertia_of_point_mass(m,px,N)"
   ]
  },
  {
   "cell_type": "code",
   "execution_count": 64,
   "metadata": {},
   "outputs": [
    {
     "data": {
      "text/plain": [
       "10*N.x + 500*N.y"
      ]
     },
     "execution_count": 64,
     "metadata": {},
     "output_type": "execute_result"
    }
   ],
   "source": [
    "#Linear Momentum of the System\n",
    "N=ReferenceFrame('N')\n",
    "P=Point('P')\n",
    "P.set_vel(N,10 * N.x)\n",
    "Pa=Particle('Pa',P,1)\n",
    "Ac = Point('Ac')\n",
    "Ac.set_vel(N,25 * N.y)\n",
    "I=outer(N.x,N.x)\n",
    "A=RigidBody('A',Ac,N,20,(I,Ac))\n",
    "linear_momentum(N,A,Pa)"
   ]
  },
  {
   "cell_type": "code",
   "execution_count": 68,
   "metadata": {},
   "outputs": [
    {
     "data": {
      "text/plain": [
       "10*N.z"
      ]
     },
     "execution_count": 68,
     "metadata": {},
     "output_type": "execute_result"
    }
   ],
   "source": [
    "#Angular Momentum  of a system\n",
    "N=ReferenceFrame('N')\n",
    "O=Point('O')\n",
    "O.set_vel(N,0 * N.x)\n",
    "P=O.locatenew('P',1 * N.x)\n",
    "P.set_vel(N, 10 * N.x)\n",
    "Pa=Particle('Pa',P,1)\n",
    "Ac=O.locatenew('Ac',2 * N.y)\n",
    "Ac.set_vel(N,5 * N.y)\n",
    "a=ReferenceFrame('a')\n",
    "a.set_ang_vel(N,10 * N.z)\n",
    "I=outer(N.z,N.z)\n",
    "A=RigidBody('A',Ac,a,20,(I,Ac))\n",
    "angular_momentum(O, N,Pa,A)"
   ]
  },
  {
   "cell_type": "code",
   "execution_count": null,
   "metadata": {},
   "outputs": [],
   "source": [
    "#Kinetic Energy of a multibody system\n",
    "N=ReferenceFrame('N')"
   ]
  },
  {
   "cell_type": "markdown",
   "metadata": {},
   "source": [
    "#### Links:\n",
    "- http://docs.sympy.org/latest/modules/physics/mechanics/api/part_bod.html"
   ]
  }
 ],
 "metadata": {
  "kernelspec": {
   "display_name": "Python 3",
   "language": "python",
   "name": "python3"
  },
  "language_info": {
   "codemirror_mode": {
    "name": "ipython",
    "version": 3
   },
   "file_extension": ".py",
   "mimetype": "text/x-python",
   "name": "python",
   "nbconvert_exporter": "python",
   "pygments_lexer": "ipython3",
   "version": "3.6.1"
  }
 },
 "nbformat": 4,
 "nbformat_minor": 2
}
